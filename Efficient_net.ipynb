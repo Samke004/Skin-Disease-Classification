{
 "cells": [
  {
   "cell_type": "code",
   "execution_count": 1,
   "id": "fe78fce6",
   "metadata": {},
   "outputs": [
    {
     "name": "stdout",
     "output_type": "stream",
     "text": [
      "c:\\Users\\samue\\AppData\\Local\\Programs\\Python\\Python39\\python.exe\n"
     ]
    }
   ],
   "source": [
    "import sys\n",
    "print(sys.executable)\n"
   ]
  },
  {
   "cell_type": "code",
   "execution_count": 2,
   "id": "5b74a2c6",
   "metadata": {},
   "outputs": [
    {
     "name": "stdout",
     "output_type": "stream",
     "text": [
      "2.19.0\n"
     ]
    }
   ],
   "source": [
    "import tensorboard\n",
    "print(tensorboard.__version__)\n",
    "import pandas as pd\n",
    "import torch\n",
    "import torchvision.transforms as transforms\n",
    "from torch.utils.data import Dataset, DataLoader\n",
    "from PIL import Image\n",
    "import os\n"
   ]
  },
  {
   "cell_type": "code",
   "execution_count": 3,
   "id": "139a8ea6",
   "metadata": {},
   "outputs": [
    {
     "name": "stdout",
     "output_type": "stream",
     "text": [
      "Nedostajuće slike: 0\n"
     ]
    }
   ],
   "source": [
    "import pandas as pd\n",
    "import os\n",
    "\n",
    "# 1. Učitaj metapodatke\n",
    "df = pd.read_csv('dataset/HAM10000_metadata.csv')\n",
    "\n",
    "# 2. Definiraj gdje tražimo slike\n",
    "image_folders = ['dataset/HAM10000_images_part_1', 'dataset/HAM10000_images_part_2']\n",
    "\n",
    "def find_image_path(image_id):\n",
    "    for folder in image_folders:\n",
    "        path = os.path.join(folder, f'{image_id}.jpg')\n",
    "        if os.path.exists(path):\n",
    "            return path\n",
    "    return None  # Ako ne postoji\n",
    "\n",
    "# 3. Dodaj stupac s punim putanjama do slika\n",
    "df['path'] = df['image_id'].apply(find_image_path)\n",
    "\n",
    "# 4. Kodiranje labela (dijagnoza)\n",
    "label_mapping = {label: idx for idx, label in enumerate(df['dx'].unique())}\n",
    "df['label'] = df['dx'].map(label_mapping)\n",
    "\n",
    "# 5. Provjera ima li slika koje nisu pronađene\n",
    "print(\"Nedostajuće slike:\", df['path'].isnull().sum())\n"
   ]
  },
  {
   "cell_type": "code",
   "execution_count": 4,
   "id": "94a3ad87",
   "metadata": {},
   "outputs": [],
   "source": [
    "from sklearn.model_selection import train_test_split\n",
    "\n",
    "# Prvo odvojimo 80% za trening, a 20% za (validacija + test)\n",
    "train_df, temp_df = train_test_split(\n",
    "    df,\n",
    "    test_size=0.2,\n",
    "    stratify=df['label'],\n",
    "    random_state=42\n",
    ")\n",
    "\n",
    "# Sada 20% podijelimo po pola (10% validacija, 10% test)\n",
    "val_df, test_df = train_test_split(\n",
    "    temp_df,\n",
    "    test_size=0.5,\n",
    "    stratify=temp_df['label'],\n",
    "    random_state=42\n",
    ")\n"
   ]
  },
  {
   "cell_type": "code",
   "execution_count": 5,
   "id": "d7e36ab2",
   "metadata": {},
   "outputs": [],
   "source": [
    "class SkinLesionDataset(Dataset):\n",
    "    def __init__(self, dataframe, transform=None):\n",
    "        self.dataframe = dataframe.reset_index(drop=True)\n",
    "        self.transform = transform\n",
    "\n",
    "    def __len__(self):\n",
    "        return len(self.dataframe)\n",
    "\n",
    "    def __getitem__(self, idx):\n",
    "        img_path = self.dataframe.loc[idx, 'path']\n",
    "        label = self.dataframe.loc[idx, 'label']\n",
    "        image = Image.open(img_path).convert('RGB')\n",
    "        if self.transform:\n",
    "            image = self.transform(image)\n",
    "        return image, label\n"
   ]
  },
  {
   "cell_type": "code",
   "execution_count": 6,
   "id": "c2bf3e8c",
   "metadata": {},
   "outputs": [],
   "source": [
    "from torchvision import transforms\n",
    "from torch.utils.data import DataLoader\n",
    "\n",
    "# 📐 Veličina slike\n",
    "image_size = 224\n",
    "\n",
    "# 🧠 Točna normalizacija za ResNet50 treniran na ImageNet\n",
    "imagenet_mean = [0.485, 0.456, 0.406]\n",
    "imagenet_std = [0.229, 0.224, 0.225]\n",
    "\n",
    "# 🔁 Transformacije za treniranje (s augmentacijom)\n",
    "train_transforms = transforms.Compose([\n",
    "    transforms.Resize((image_size, image_size)),\n",
    "    transforms.RandomHorizontalFlip(),\n",
    "    transforms.RandomRotation(15),\n",
    "    transforms.ColorJitter(0.2, 0.2, 0.2),\n",
    "    transforms.ToTensor(),\n",
    "    transforms.Normalize(imagenet_mean, imagenet_std)\n",
    "])\n",
    "\n",
    "# 🔍 Transformacije za validaciju i test (bez augmentacije)\n",
    "eval_transforms = transforms.Compose([\n",
    "    transforms.Resize((image_size, image_size)),\n",
    "    transforms.ToTensor(),\n",
    "    transforms.Normalize(imagenet_mean, imagenet_std)\n",
    "])\n",
    "\n",
    "# 📦 Dataseti\n",
    "train_dataset = SkinLesionDataset(train_df, transform=train_transforms)\n",
    "val_dataset = SkinLesionDataset(val_df, transform=eval_transforms)\n",
    "test_dataset = SkinLesionDataset(test_df, transform=eval_transforms)\n",
    "\n",
    "# 🚚 DataLoaderi\n",
    "train_loader = DataLoader(train_dataset, batch_size=32, shuffle=True)\n",
    "val_loader = DataLoader(val_dataset, batch_size=32, shuffle=False)\n",
    "test_loader = DataLoader(test_dataset, batch_size=32, shuffle=False)\n"
   ]
  },
  {
   "cell_type": "code",
   "execution_count": 7,
   "id": "747768ae",
   "metadata": {},
   "outputs": [],
   "source": [
    "from torch.utils.tensorboard import SummaryWriter\n",
    "writer = SummaryWriter(log_dir='runs/skin_diagnosis_experiment2')\n"
   ]
  },
  {
   "cell_type": "code",
   "execution_count": 8,
   "id": "f6138098",
   "metadata": {},
   "outputs": [
    {
     "name": "stdout",
     "output_type": "stream",
     "text": [
      "✅ GPU aktivan: NVIDIA GeForce RTX 4060 Ti\n"
     ]
    }
   ],
   "source": [
    "import torch\n",
    "\n",
    "if torch.cuda.is_available():\n",
    "    print(\"✅ GPU aktivan:\", torch.cuda.get_device_name(0))\n",
    "else:\n",
    "    print(\"❌ GPU NIJE aktivan – koristiš CPU.\")\n"
   ]
  },
  {
   "cell_type": "code",
   "execution_count": 9,
   "id": "42fcb92a",
   "metadata": {},
   "outputs": [
    {
     "name": "stderr",
     "output_type": "stream",
     "text": [
      "c:\\Users\\samue\\AppData\\Local\\Programs\\Python\\Python39\\lib\\site-packages\\torchvision\\models\\_utils.py:208: UserWarning: The parameter 'pretrained' is deprecated since 0.13 and may be removed in the future, please use 'weights' instead.\n",
      "  warnings.warn(\n",
      "c:\\Users\\samue\\AppData\\Local\\Programs\\Python\\Python39\\lib\\site-packages\\torchvision\\models\\_utils.py:223: UserWarning: Arguments other than a weight enum or `None` for 'weights' are deprecated since 0.13 and may be removed in the future. The current behavior is equivalent to passing `weights=EfficientNet_B0_Weights.IMAGENET1K_V1`. You can also use `weights=EfficientNet_B0_Weights.DEFAULT` to get the most up-to-date weights.\n",
      "  warnings.warn(msg)\n",
      "Downloading: \"https://download.pytorch.org/models/efficientnet_b0_rwightman-7f5810bc.pth\" to C:\\Users\\samue/.cache\\torch\\hub\\checkpoints\\efficientnet_b0_rwightman-7f5810bc.pth\n",
      "100%|██████████| 20.5M/20.5M [00:01<00:00, 17.1MB/s]\n"
     ]
    }
   ],
   "source": [
    "import torch\n",
    "import torch.nn as nn\n",
    "import torchvision.models as models\n",
    "\n",
    "device = torch.device('cuda' if torch.cuda.is_available() else 'cpu')\n",
    "\n",
    "# Učitaj pretrenirani EfficientNet-B0\n",
    "model = models.efficientnet_b0(pretrained=True)\n",
    "\n",
    "# Ukloni originalni klasifikacijski sloj i zamijeni vlastitim\n",
    "num_features = model.classifier[1].in_features\n",
    "model.classifier = nn.Sequential(\n",
    "    nn.Dropout(p=0.5),\n",
    "    nn.Linear(num_features, 7)  # 7 klasa za HAM10000\n",
    ")\n",
    "\n",
    "# Premjesti na GPU/CPU\n",
    "model = model.to(device)\n"
   ]
  },
  {
   "cell_type": "code",
   "execution_count": 10,
   "id": "7bc8d3c6",
   "metadata": {},
   "outputs": [],
   "source": [
    "import torch.optim as optim\n",
    "from sklearn.metrics import accuracy_score, f1_score, precision_score, recall_score\n",
    "\n",
    "from sklearn.utils.class_weight import compute_class_weight\n",
    "import numpy as np\n",
    "\n",
    "# Izračunaj težine\n",
    "class_weights = compute_class_weight(\n",
    "    class_weight='balanced',\n",
    "    classes=np.unique(df['label']),\n",
    "    y=df['label']\n",
    ")\n",
    "\n",
    "# Pretvori u tensor i prebaci na GPU (ako treba)\n",
    "class_weights_tensor = torch.tensor(class_weights, dtype=torch.float).to(device)\n",
    "\n",
    "# Dodaj u loss funkciju\n",
    "criterion = nn.CrossEntropyLoss(weight=class_weights_tensor)\n",
    "\n",
    "optimizer = torch.optim.Adam(model.parameters(), lr=1e-4, weight_decay=1e-5)\n"
   ]
  },
  {
   "cell_type": "code",
   "execution_count": 11,
   "id": "810a33d6",
   "metadata": {},
   "outputs": [],
   "source": [
    "from tqdm import tqdm\n",
    "\n",
    "def evaluate_model(model, dataloader):\n",
    "    model.eval()\n",
    "    all_preds = []\n",
    "    all_labels = []\n",
    "    total_loss = 0.0\n",
    "\n",
    "    with torch.no_grad():\n",
    "        for images, labels in dataloader:\n",
    "            images, labels = images.to(device), labels.to(device)\n",
    "            outputs = model(images)\n",
    "            loss = criterion(outputs, labels)\n",
    "            total_loss += loss.item() * images.size(0)\n",
    "\n",
    "            preds = torch.argmax(outputs, 1)\n",
    "            all_preds.extend(preds.cpu().numpy())\n",
    "            all_labels.extend(labels.cpu().numpy())\n",
    "\n",
    "    acc = accuracy_score(all_labels, all_preds)\n",
    "    f1 = f1_score(all_labels, all_preds, average='macro')\n",
    "    recall = recall_score(all_labels, all_preds, average='macro')\n",
    "    precision = precision_score(all_labels, all_preds, average='macro')\n",
    "\n",
    "    return total_loss / len(dataloader.dataset), acc, f1, recall, precision\n"
   ]
  },
  {
   "cell_type": "code",
   "execution_count": 12,
   "id": "0b61cf97",
   "metadata": {},
   "outputs": [
    {
     "name": "stdout",
     "output_type": "stream",
     "text": [
      "Ukupno slika: 10015\n",
      "Trening skup: 8012\n",
      "Validacijski skup: 1001\n",
      "Testni skup: 1002\n",
      "\n",
      "Distribucija klasa (trening):\n",
      "label\n",
      "1    5364\n",
      "3     890\n",
      "0     879\n",
      "5     411\n",
      "6     262\n",
      "4     114\n",
      "2      92\n",
      "Name: count, dtype: int64\n",
      "\n",
      "Distribucija klasa (validacija):\n",
      "label\n",
      "1    670\n",
      "3    111\n",
      "0    110\n",
      "5     51\n",
      "6     33\n",
      "4     14\n",
      "2     12\n",
      "Name: count, dtype: int64\n"
     ]
    }
   ],
   "source": [
    "print(\"Ukupno slika:\", len(df))\n",
    "print(\"Trening skup:\", len(train_df))\n",
    "print(\"Validacijski skup:\", len(val_df))\n",
    "print(\"Testni skup:\", len(test_df))\n",
    "print(\"\\nDistribucija klasa (trening):\")\n",
    "print(train_df['label'].value_counts())\n",
    "print(\"\\nDistribucija klasa (validacija):\")\n",
    "print(val_df['label'].value_counts())\n"
   ]
  },
  {
   "cell_type": "code",
   "execution_count": 18,
   "id": "4aaff1f5",
   "metadata": {},
   "outputs": [
    {
     "name": "stderr",
     "output_type": "stream",
     "text": [
      "Epoch 1/10: 100%|██████████| 251/251 [01:07<00:00,  3.73it/s]\n"
     ]
    },
    {
     "name": "stdout",
     "output_type": "stream",
     "text": [
      "📊 Epoch 1/10\n",
      "Train Loss: 0.2810 | Val Loss: 0.7420\n",
      "Train Acc: 0.8542 | Val Acc: 0.8062\n",
      "Train F1: 0.8359 | Val F1: 0.7558\n",
      "✅ Saved new best model\n"
     ]
    },
    {
     "name": "stderr",
     "output_type": "stream",
     "text": [
      "Epoch 2/10: 100%|██████████| 251/251 [01:10<00:00,  3.55it/s]\n"
     ]
    },
    {
     "name": "stdout",
     "output_type": "stream",
     "text": [
      "📊 Epoch 2/10\n",
      "Train Loss: 0.2375 | Val Loss: 0.5844\n",
      "Train Acc: 0.8677 | Val Acc: 0.7992\n",
      "Train F1: 0.8543 | Val F1: 0.7500\n",
      "⚠️ No improvement in F1 for 1 epoch(s)\n"
     ]
    },
    {
     "name": "stderr",
     "output_type": "stream",
     "text": [
      "Epoch 3/10: 100%|██████████| 251/251 [01:12<00:00,  3.47it/s]\n"
     ]
    },
    {
     "name": "stdout",
     "output_type": "stream",
     "text": [
      "📊 Epoch 3/10\n",
      "Train Loss: 0.2304 | Val Loss: 0.5866\n",
      "Train Acc: 0.8747 | Val Acc: 0.8352\n",
      "Train F1: 0.8535 | Val F1: 0.7787\n",
      "✅ Saved new best model\n"
     ]
    },
    {
     "name": "stderr",
     "output_type": "stream",
     "text": [
      "Epoch 4/10: 100%|██████████| 251/251 [01:13<00:00,  3.43it/s]\n"
     ]
    },
    {
     "name": "stdout",
     "output_type": "stream",
     "text": [
      "📊 Epoch 4/10\n",
      "Train Loss: 0.1907 | Val Loss: 0.5771\n",
      "Train Acc: 0.8839 | Val Acc: 0.8382\n",
      "Train F1: 0.8731 | Val F1: 0.7803\n",
      "✅ Saved new best model\n"
     ]
    },
    {
     "name": "stderr",
     "output_type": "stream",
     "text": [
      "Epoch 5/10: 100%|██████████| 251/251 [01:11<00:00,  3.52it/s]\n"
     ]
    },
    {
     "name": "stdout",
     "output_type": "stream",
     "text": [
      "📊 Epoch 5/10\n",
      "Train Loss: 0.1784 | Val Loss: 0.6950\n",
      "Train Acc: 0.8940 | Val Acc: 0.8442\n",
      "Train F1: 0.8810 | Val F1: 0.7853\n",
      "✅ Saved new best model\n"
     ]
    },
    {
     "name": "stderr",
     "output_type": "stream",
     "text": [
      "Epoch 6/10: 100%|██████████| 251/251 [01:11<00:00,  3.49it/s]\n"
     ]
    },
    {
     "name": "stdout",
     "output_type": "stream",
     "text": [
      "📊 Epoch 6/10\n",
      "Train Loss: 0.1656 | Val Loss: 0.6192\n",
      "Train Acc: 0.8972 | Val Acc: 0.8442\n",
      "Train F1: 0.8861 | Val F1: 0.7954\n",
      "✅ Saved new best model\n"
     ]
    },
    {
     "name": "stderr",
     "output_type": "stream",
     "text": [
      "Epoch 7/10: 100%|██████████| 251/251 [01:10<00:00,  3.55it/s]\n"
     ]
    },
    {
     "name": "stdout",
     "output_type": "stream",
     "text": [
      "📊 Epoch 7/10\n",
      "Train Loss: 0.1454 | Val Loss: 0.6278\n",
      "Train Acc: 0.9091 | Val Acc: 0.8322\n",
      "Train F1: 0.9051 | Val F1: 0.7832\n",
      "⚠️ No improvement in F1 for 1 epoch(s)\n"
     ]
    },
    {
     "name": "stderr",
     "output_type": "stream",
     "text": [
      "Epoch 8/10: 100%|██████████| 251/251 [01:14<00:00,  3.38it/s]\n"
     ]
    },
    {
     "name": "stdout",
     "output_type": "stream",
     "text": [
      "📊 Epoch 8/10\n",
      "Train Loss: 0.1565 | Val Loss: 0.6051\n",
      "Train Acc: 0.9073 | Val Acc: 0.8571\n",
      "Train F1: 0.8881 | Val F1: 0.8152\n",
      "✅ Saved new best model\n"
     ]
    },
    {
     "name": "stderr",
     "output_type": "stream",
     "text": [
      "Epoch 9/10: 100%|██████████| 251/251 [01:12<00:00,  3.45it/s]\n"
     ]
    },
    {
     "name": "stdout",
     "output_type": "stream",
     "text": [
      "📊 Epoch 9/10\n",
      "Train Loss: 0.1247 | Val Loss: 0.5891\n",
      "Train Acc: 0.9156 | Val Acc: 0.8521\n",
      "Train F1: 0.9140 | Val F1: 0.8062\n",
      "⚠️ No improvement in F1 for 1 epoch(s)\n"
     ]
    },
    {
     "name": "stderr",
     "output_type": "stream",
     "text": [
      "Epoch 10/10: 100%|██████████| 251/251 [01:14<00:00,  3.38it/s]\n"
     ]
    },
    {
     "name": "stdout",
     "output_type": "stream",
     "text": [
      "📊 Epoch 10/10\n",
      "Train Loss: 0.1177 | Val Loss: 0.6737\n",
      "Train Acc: 0.9219 | Val Acc: 0.8731\n",
      "Train F1: 0.9075 | Val F1: 0.7960\n",
      "⚠️ No improvement in F1 for 2 epoch(s)\n"
     ]
    }
   ],
   "source": [
    "best_f1 = 0.0\n",
    "patience = 3\n",
    "counter = 0\n",
    "\n",
    "for epoch in range(10):\n",
    "    model.train()\n",
    "    running_loss = 0.0\n",
    "    all_preds = []\n",
    "    all_labels = []\n",
    "\n",
    "    for images, labels in tqdm(train_loader, desc=f'Epoch {epoch+1}/10'):\n",
    "        images, labels = images.to(device), labels.to(device)\n",
    "\n",
    "        optimizer.zero_grad()\n",
    "        outputs = model(images)\n",
    "        loss = criterion(outputs, labels)\n",
    "        loss.backward()\n",
    "        optimizer.step()\n",
    "\n",
    "        running_loss += loss.item() * images.size(0)\n",
    "        preds = torch.argmax(outputs, 1)\n",
    "        all_preds.extend(preds.cpu().numpy())\n",
    "        all_labels.extend(labels.cpu().numpy())\n",
    "\n",
    "    train_loss = running_loss / len(train_loader.dataset)\n",
    "    train_acc = accuracy_score(all_labels, all_preds)\n",
    "    train_f1 = f1_score(all_labels, all_preds, average='macro')\n",
    "    train_recall = recall_score(all_labels, all_preds, average='macro')\n",
    "    train_precision = precision_score(all_labels, all_preds, average='macro')\n",
    "\n",
    "    val_loss, val_acc, val_f1, val_recall, val_precision = evaluate_model(model, val_loader)\n",
    "\n",
    "    # TensorBoard logging\n",
    "    writer.add_scalars('Loss', {'Train': train_loss, 'Val': val_loss}, epoch)\n",
    "    writer.add_scalars('Accuracy', {'Train': train_acc, 'Val': val_acc}, epoch)\n",
    "    writer.add_scalars('F1', {'Train': train_f1, 'Val': val_f1}, epoch)\n",
    "    writer.add_scalars('Recall', {'Train': train_recall, 'Val': val_recall}, epoch)\n",
    "    writer.add_scalars('Precision', {'Train': train_precision, 'Val': val_precision}, epoch)\n",
    "\n",
    "    print(f\"📊 Epoch {epoch+1}/10\")\n",
    "    print(f\"Train Loss: {train_loss:.4f} | Val Loss: {val_loss:.4f}\")\n",
    "    print(f\"Train Acc: {train_acc:.4f} | Val Acc: {val_acc:.4f}\")\n",
    "    print(f\"Train F1: {train_f1:.4f} | Val F1: {val_f1:.4f}\")\n",
    "\n",
    "    if val_f1 > best_f1:\n",
    "        best_f1 = val_f1\n",
    "        counter = 0\n",
    "        torch.save(model.state_dict(), 'best_efficient_net.pth')\n",
    "        print(\"✅ Saved new best model\")\n",
    "    else:\n",
    "        counter += 1\n",
    "        print(f\"⚠️ No improvement in F1 for {counter} epoch(s)\")\n",
    "        if counter >= patience:\n",
    "            print(\"⏹️ Early stopping triggered\")\n",
    "            break\n",
    "##$$ OVO JE JOS BOLJEŠANO S OBZIROM DA JE DODAN EARLY STOPPING"
   ]
  },
  {
   "cell_type": "code",
   "execution_count": null,
   "id": "173e74ef",
   "metadata": {},
   "outputs": [],
   "source": [
    "%load_ext tensorboard\n",
    "%tensorboard --logdir runs\n"
   ]
  },
  {
   "cell_type": "code",
   "execution_count": 25,
   "id": "40b9c2a9",
   "metadata": {},
   "outputs": [
    {
     "name": "stderr",
     "output_type": "stream",
     "text": [
      "C:\\Users\\samue\\AppData\\Local\\Temp\\ipykernel_2236\\1460284974.py:1: FutureWarning: You are using `torch.load` with `weights_only=False` (the current default value), which uses the default pickle module implicitly. It is possible to construct malicious pickle data which will execute arbitrary code during unpickling (See https://github.com/pytorch/pytorch/blob/main/SECURITY.md#untrusted-models for more details). In a future release, the default value for `weights_only` will be flipped to `True`. This limits the functions that could be executed during unpickling. Arbitrary objects will no longer be allowed to be loaded via this mode unless they are explicitly allowlisted by the user via `torch.serialization.add_safe_globals`. We recommend you start setting `weights_only=True` for any use case where you don't have full control of the loaded file. Please open an issue on GitHub for any issues related to this experimental feature.\n",
      "  model.load_state_dict(torch.load(\"best_efficient_net.pth\"))\n"
     ]
    },
    {
     "name": "stdout",
     "output_type": "stream",
     "text": [
      "Test Acc: 0.8533 | Test F1: 0.7435\n"
     ]
    }
   ],
   "source": [
    "model.load_state_dict(torch.load(\"best_efficient_net.pth\"))\n",
    "model.eval()\n",
    "test_loss, test_acc, test_f1, test_recall, test_precision = evaluate_model(model, test_loader)\n",
    "print(f\"Test Acc: {test_acc:.4f} | Test F1: {test_f1:.4f}\")\n"
   ]
  },
  {
   "cell_type": "code",
   "execution_count": 20,
   "id": "71f58dc1",
   "metadata": {},
   "outputs": [
    {
     "data": {
      "text/plain": [
       "<sklearn.metrics._plot.confusion_matrix.ConfusionMatrixDisplay at 0x1335e8c00d0>"
      ]
     },
     "execution_count": 20,
     "metadata": {},
     "output_type": "execute_result"
    },
    {
     "data": {
      "image/png": "[encoded data removed]",
      "text/plain": [
       "<Figure size 640x480 with 2 Axes>"
      ]
     },
     "metadata": {},
     "output_type": "display_data"
    }
   ],
   "source": [
    "from sklearn.metrics import confusion_matrix, ConfusionMatrixDisplay\n",
    "\n",
    "all_preds = []\n",
    "all_labels = []\n",
    "\n",
    "model.eval()\n",
    "with torch.no_grad():\n",
    "    for images, labels in test_loader:\n",
    "        images, labels = images.to(device), labels.to(device)\n",
    "        outputs = model(images)\n",
    "        preds = torch.argmax(outputs, dim=1)\n",
    "        all_preds.extend(preds.cpu().numpy())\n",
    "        all_labels.extend(labels.cpu().numpy())\n",
    "\n",
    "cm = confusion_matrix(all_labels, all_preds)\n",
    "disp = ConfusionMatrixDisplay(confusion_matrix=cm)\n",
    "disp.plot(xticks_rotation=45)\n"
   ]
  },
  {
   "cell_type": "code",
   "execution_count": 21,
   "id": "35f13ca0",
   "metadata": {},
   "outputs": [
    {
     "name": "stdout",
     "output_type": "stream",
     "text": [
      "              precision    recall  f1-score   support\n",
      "\n",
      "         bkl       0.76      0.82      0.79       110\n",
      "          nv       0.97      0.89      0.93       671\n",
      "          df       0.70      0.64      0.67        11\n",
      "         mel       0.61      0.71      0.65       112\n",
      "        vasc       0.72      0.93      0.81        14\n",
      "         bcc       0.73      0.87      0.79        52\n",
      "       akiec       0.48      0.69      0.56        32\n",
      "\n",
      "    accuracy                           0.85      1002\n",
      "   macro avg       0.71      0.79      0.74      1002\n",
      "weighted avg       0.87      0.85      0.86      1002\n",
      "\n"
     ]
    }
   ],
   "source": [
    "from sklearn.metrics import classification_report\n",
    "\n",
    "print(classification_report(all_labels, all_preds, target_names=df['dx'].unique()))\n"
   ]
  }
 ],
 "metadata": {
  "kernelspec": {
   "display_name": "Python 3",
   "language": "python",
   "name": "python3"
  },
  "language_info": {
   "codemirror_mode": {
    "name": "ipython",
    "version": 3
   },
   "file_extension": ".py",
   "mimetype": "text/x-python",
   "name": "python",
   "nbconvert_exporter": "python",
   "pygments_lexer": "ipython3",
   "version": "3.9.0"
  }
 },
 "nbformat": 4,
 "nbformat_minor": 5
}
