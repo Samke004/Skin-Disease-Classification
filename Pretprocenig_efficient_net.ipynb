{
 "cells": [
  {
   "cell_type": "code",
   "execution_count": 1,
   "id": "51fe89fc",
   "metadata": {},
   "outputs": [
    {
     "name": "stdout",
     "output_type": "stream",
     "text": [
      "c:\\Users\\samue\\AppData\\Local\\Programs\\Python\\Python39\\python.exe\n"
     ]
    }
   ],
   "source": [
    "import sys\n",
    "print(sys.executable)\n"
   ]
  },
  {
   "cell_type": "code",
   "execution_count": 2,
   "id": "8319c407",
   "metadata": {},
   "outputs": [
    {
     "name": "stdout",
     "output_type": "stream",
     "text": [
      "2.19.0\n"
     ]
    }
   ],
   "source": [
    "import tensorboard\n",
    "print(tensorboard.__version__)\n",
    "import pandas as pd\n",
    "import torch\n",
    "import torchvision.transforms as transforms\n",
    "from torch.utils.data import Dataset, DataLoader\n",
    "from PIL import Image\n",
    "import os\n",
    "import albumentations as A\n",
    "from albumentations.pytorch import ToTensorV2\n"
   ]
  },
  {
   "cell_type": "code",
   "execution_count": 3,
   "id": "0d298542",
   "metadata": {},
   "outputs": [
    {
     "name": "stdout",
     "output_type": "stream",
     "text": [
      "Nedostajuće slike: 0\n"
     ]
    }
   ],
   "source": [
    "import pandas as pd\n",
    "import os\n",
    "\n",
    "# 1. Učitaj metapodatke\n",
    "df = pd.read_csv('dataset/HAM10000_metadata.csv')\n",
    "\n",
    "# 2. Definiraj gdje tražimo slike\n",
    "image_folders = ['dataset/HAM10000_images_part_1', 'dataset/HAM10000_images_part_2']\n",
    "\n",
    "def find_image_path(image_id):\n",
    "    for folder in image_folders:\n",
    "        path = os.path.join(folder, f'{image_id}.jpg')\n",
    "        if os.path.exists(path):\n",
    "            return path\n",
    "    return None  # Ako ne postoji\n",
    "\n",
    "# 3. Dodaj stupac s punim putanjama do slika\n",
    "df['path'] = df['image_id'].apply(find_image_path)\n",
    "\n",
    "# 4. Kodiranje labela (dijagnoza)\n",
    "label_mapping = {label: idx for idx, label in enumerate(df['dx'].unique())}\n",
    "df['label'] = df['dx'].map(label_mapping)\n",
    "\n",
    "# 5. Provjera ima li slika koje nisu pronađene\n",
    "print(\"Nedostajuće slike:\", df['path'].isnull().sum())\n"
   ]
  },
  {
   "cell_type": "code",
   "execution_count": 4,
   "id": "4ec8eef6",
   "metadata": {},
   "outputs": [],
   "source": [
    "from sklearn.model_selection import train_test_split\n",
    "\n",
    "# Prvo odvojimo 80% za trening, a 20% za (validacija + test)\n",
    "train_df, temp_df = train_test_split(\n",
    "    df,\n",
    "    test_size=0.2,\n",
    "    stratify=df['label'],\n",
    "    random_state=42\n",
    ")\n",
    "\n",
    "# Sada 20% podijelimo po pola (10% validacija, 10% test)\n",
    "val_df, test_df = train_test_split(\n",
    "    temp_df,\n",
    "    test_size=0.5,\n",
    "    stratify=temp_df['label'],\n",
    "    random_state=42\n",
    ")\n"
   ]
  },
  {
   "cell_type": "code",
   "execution_count": 25,
   "id": "24103e1e",
   "metadata": {},
   "outputs": [],
   "source": [
    "class SkinLesionDataset(Dataset):\n",
    "    def __init__(self, df, transform=None):\n",
    "        self.df = df.reset_index(drop=True)  # <-- ispravno ime: df\n",
    "        self.transform = transform\n",
    "\n",
    "    def __len__(self):\n",
    "        return len(self.df)\n",
    "\n",
    "    def __getitem__(self, idx):\n",
    "        img_path = self.df.loc[idx, 'path']\n",
    "        image = np.array(Image.open(img_path).convert('RGB'))\n",
    "        label = self.df.loc[idx, 'label']\n",
    "        if self.transform:\n",
    "            transformed = self.transform(image=image)  # Albumentations expects image=image\n",
    "            image = transformed['image']\n",
    "        return image, label\n"
   ]
  },
  {
   "cell_type": "code",
   "execution_count": 26,
   "id": "9d9e0254",
   "metadata": {},
   "outputs": [],
   "source": [
    "from sklearn.model_selection import train_test_split\n",
    "\n",
    "# Podjela: 80% train, 10% val, 10% test\n",
    "train_df, temp_df = train_test_split(df, test_size=0.2, stratify=df['label'], random_state=42)\n",
    "val_df, test_df = train_test_split(temp_df, test_size=0.5, stratify=temp_df['label'], random_state=42)\n",
    "\n",
    "# Transformacije\n",
    "IMG_SIZE = 224\n",
    "imagenet_mean = (0.485, 0.456, 0.406)\n",
    "imagenet_std = (0.229, 0.224, 0.225)\n",
    "\n",
    "train_transform = A.Compose([\n",
    "    A.RandomResizedCrop(size=(IMG_SIZE, IMG_SIZE), scale=(0.8, 1.0), ratio=(0.9, 1.1), p=1.0),\n",
    "    A.HorizontalFlip(p=0.5),\n",
    "    A.VerticalFlip(p=0.5),\n",
    "    A.Rotate(limit=30, p=0.7),\n",
    "    A.ColorJitter(brightness=0.25, contrast=0.25, saturation=0.2, hue=0.05, p=0.7),\n",
    "    A.Affine(translate_percent={\"x\": 0.05, \"y\": 0.05}, scale=(0.9, 1.1), rotate=0, shear=0, p=0.5),\n",
    "    A.GaussianBlur(blur_limit=(3, 7), p=0.3),\n",
    "    A.Normalize(mean=imagenet_mean, std=imagenet_std),\n",
    "    ToTensorV2(),\n",
    "])\n",
    "\n",
    "val_transform = A.Compose([\n",
    "    A.Resize(width=IMG_SIZE, height=IMG_SIZE),\n",
    "    A.Normalize(mean=imagenet_mean, std=imagenet_std),\n",
    "    ToTensorV2(),\n",
    "])\n",
    "test_transform = val_transform\n",
    "\n",
    "# Dataseti\n",
    "train_dataset = SkinLesionDataset(train_df, transform=train_transform)\n",
    "val_dataset = SkinLesionDataset(val_df, transform=val_transform)\n",
    "test_dataset = SkinLesionDataset(test_df, transform=test_transform)\n",
    "\n",
    "# DataLoaderi\n",
    "train_loader = DataLoader(train_dataset, batch_size=32, shuffle=True, num_workers=0)\n",
    "val_loader = DataLoader(val_dataset, batch_size=32, shuffle=False, num_workers=0)\n",
    "test_loader = DataLoader(test_dataset, batch_size=32, shuffle=False, num_workers=0)\n"
   ]
  },
  {
   "cell_type": "code",
   "execution_count": 27,
   "id": "959d7979",
   "metadata": {},
   "outputs": [],
   "source": [
    "from torch.utils.tensorboard import SummaryWriter\n",
    "writer = SummaryWriter(log_dir='runs/skin_diagnosis_experiment3-augmented')\n"
   ]
  },
  {
   "cell_type": "code",
   "execution_count": 28,
   "id": "042e0085",
   "metadata": {},
   "outputs": [
    {
     "name": "stdout",
     "output_type": "stream",
     "text": [
      "✅ GPU aktivan: NVIDIA GeForce RTX 4060 Ti\n"
     ]
    }
   ],
   "source": [
    "import torch\n",
    "\n",
    "if torch.cuda.is_available():\n",
    "    print(\"✅ GPU aktivan:\", torch.cuda.get_device_name(0))\n",
    "else:\n",
    "    print(\"❌ GPU NIJE aktivan – koristiš CPU.\")\n"
   ]
  },
  {
   "cell_type": "code",
   "execution_count": 29,
   "id": "9dcec460",
   "metadata": {},
   "outputs": [
    {
     "name": "stderr",
     "output_type": "stream",
     "text": [
      "c:\\Users\\samue\\AppData\\Local\\Programs\\Python\\Python39\\lib\\site-packages\\torchvision\\models\\_utils.py:208: UserWarning: The parameter 'pretrained' is deprecated since 0.13 and may be removed in the future, please use 'weights' instead.\n",
      "  warnings.warn(\n",
      "c:\\Users\\samue\\AppData\\Local\\Programs\\Python\\Python39\\lib\\site-packages\\torchvision\\models\\_utils.py:223: UserWarning: Arguments other than a weight enum or `None` for 'weights' are deprecated since 0.13 and may be removed in the future. The current behavior is equivalent to passing `weights=EfficientNet_B0_Weights.IMAGENET1K_V1`. You can also use `weights=EfficientNet_B0_Weights.DEFAULT` to get the most up-to-date weights.\n",
      "  warnings.warn(msg)\n"
     ]
    }
   ],
   "source": [
    "import torch\n",
    "import torch.nn as nn\n",
    "import torchvision.models as models\n",
    "\n",
    "device = torch.device('cuda' if torch.cuda.is_available() else 'cpu')\n",
    "\n",
    "# Učitaj pretrenirani EfficientNet-B0\n",
    "model = models.efficientnet_b0(pretrained=True)\n",
    "\n",
    "# Ukloni originalni klasifikacijski sloj i zamijeni vlastitim\n",
    "num_features = model.classifier[1].in_features\n",
    "model.classifier = nn.Sequential(\n",
    "    nn.Dropout(p=0.5),\n",
    "    nn.Linear(num_features, 7)  # 7 klasa za HAM10000\n",
    ")\n",
    "\n",
    "# Premjesti na GPU/CPU\n",
    "model = model.to(device)\n"
   ]
  },
  {
   "cell_type": "code",
   "execution_count": 31,
   "id": "1e4dd003",
   "metadata": {},
   "outputs": [],
   "source": [
    "import torch.optim as optim\n",
    "from sklearn.metrics import accuracy_score, f1_score, precision_score, recall_score\n",
    "\n",
    "from sklearn.utils.class_weight import compute_class_weight\n",
    "import numpy as np\n",
    "\n",
    "# Izračunaj težine\n",
    "class_weights = compute_class_weight(\n",
    "    class_weight='balanced',\n",
    "    classes=np.unique(df['label']),\n",
    "    y=df['label']\n",
    ")\n",
    "\n",
    "# Pretvori u tensor i prebaci na GPU (ako treba)\n",
    "class_weights_tensor = torch.tensor(class_weights, dtype=torch.float).to(device)\n",
    "\n",
    "# Dodaj u loss funkciju\n",
    "criterion = nn.CrossEntropyLoss(weight=class_weights_tensor)\n",
    "\n",
    "optimizer = torch.optim.Adam(model.parameters(), lr=1e-4, weight_decay=1e-5)\n"
   ]
  },
  {
   "cell_type": "code",
   "execution_count": 32,
   "id": "73120322",
   "metadata": {},
   "outputs": [],
   "source": [
    "from tqdm import tqdm\n",
    "\n",
    "def evaluate_model(model, dataloader):\n",
    "    model.eval()\n",
    "    all_preds = []\n",
    "    all_labels = []\n",
    "    total_loss = 0.0\n",
    "\n",
    "    with torch.no_grad():\n",
    "        for images, labels in dataloader:\n",
    "            images, labels = images.to(device), labels.to(device)\n",
    "            outputs = model(images)\n",
    "            loss = criterion(outputs, labels)\n",
    "            total_loss += loss.item() * images.size(0)\n",
    "\n",
    "            preds = torch.argmax(outputs, 1)\n",
    "            all_preds.extend(preds.cpu().numpy())\n",
    "            all_labels.extend(labels.cpu().numpy())\n",
    "\n",
    "    acc = accuracy_score(all_labels, all_preds)\n",
    "    f1 = f1_score(all_labels, all_preds, average='macro')\n",
    "    recall = recall_score(all_labels, all_preds, average='macro')\n",
    "    precision = precision_score(all_labels, all_preds, average='macro')\n",
    "\n",
    "    return total_loss / len(dataloader.dataset), acc, f1, recall, precision\n"
   ]
  },
  {
   "cell_type": "code",
   "execution_count": 33,
   "id": "601621e1",
   "metadata": {},
   "outputs": [
    {
     "name": "stdout",
     "output_type": "stream",
     "text": [
      "Ukupno slika: 10015\n",
      "Trening skup: 8012\n",
      "Validacijski skup: 1001\n",
      "Testni skup: 1002\n",
      "\n",
      "Distribucija klasa (trening):\n",
      "label\n",
      "1    5364\n",
      "3     890\n",
      "0     879\n",
      "5     411\n",
      "6     262\n",
      "4     114\n",
      "2      92\n",
      "Name: count, dtype: int64\n",
      "\n",
      "Distribucija klasa (validacija):\n",
      "label\n",
      "1    670\n",
      "3    111\n",
      "0    110\n",
      "5     51\n",
      "6     33\n",
      "4     14\n",
      "2     12\n",
      "Name: count, dtype: int64\n"
     ]
    }
   ],
   "source": [
    "print(\"Ukupno slika:\", len(df))\n",
    "print(\"Trening skup:\", len(train_df))\n",
    "print(\"Validacijski skup:\", len(val_df))\n",
    "print(\"Testni skup:\", len(test_df))\n",
    "print(\"\\nDistribucija klasa (trening):\")\n",
    "print(train_df['label'].value_counts())\n",
    "print(\"\\nDistribucija klasa (validacija):\")\n",
    "print(val_df['label'].value_counts())\n"
   ]
  },
  {
   "cell_type": "code",
   "execution_count": 34,
   "id": "c0326cfb",
   "metadata": {},
   "outputs": [
    {
     "name": "stderr",
     "output_type": "stream",
     "text": [
      "Epoch 1/10: 100%|██████████| 251/251 [01:19<00:00,  3.15it/s]\n"
     ]
    },
    {
     "name": "stdout",
     "output_type": "stream",
     "text": [
      "📊 Epoch 1/10\n",
      "Train Loss: 1.5545 | Val Loss: 1.1025\n",
      "Train Acc: 0.4539 | Val Acc: 0.6244\n",
      "Train F1: 0.2781 | Val F1: 0.5064\n",
      "✅ Saved new best model\n"
     ]
    },
    {
     "name": "stderr",
     "output_type": "stream",
     "text": [
      "Epoch 2/10: 100%|██████████| 251/251 [01:17<00:00,  3.25it/s]\n"
     ]
    },
    {
     "name": "stdout",
     "output_type": "stream",
     "text": [
      "📊 Epoch 2/10\n",
      "Train Loss: 0.9837 | Val Loss: 0.7541\n",
      "Train Acc: 0.6460 | Val Acc: 0.7103\n",
      "Train F1: 0.4967 | Val F1: 0.6415\n",
      "✅ Saved new best model\n"
     ]
    },
    {
     "name": "stderr",
     "output_type": "stream",
     "text": [
      "Epoch 3/10: 100%|██████████| 251/251 [01:17<00:00,  3.25it/s]\n"
     ]
    },
    {
     "name": "stdout",
     "output_type": "stream",
     "text": [
      "📊 Epoch 3/10\n",
      "Train Loss: 0.8098 | Val Loss: 0.6862\n",
      "Train Acc: 0.6965 | Val Acc: 0.7193\n",
      "Train F1: 0.5710 | Val F1: 0.6316\n",
      "⚠️ No improvement in F1 for 1 epoch(s)\n"
     ]
    },
    {
     "name": "stderr",
     "output_type": "stream",
     "text": [
      "Epoch 4/10: 100%|██████████| 251/251 [01:18<00:00,  3.22it/s]\n"
     ]
    },
    {
     "name": "stdout",
     "output_type": "stream",
     "text": [
      "📊 Epoch 4/10\n",
      "Train Loss: 0.7216 | Val Loss: 0.6401\n",
      "Train Acc: 0.7146 | Val Acc: 0.7882\n",
      "Train F1: 0.6058 | Val F1: 0.6934\n",
      "✅ Saved new best model\n"
     ]
    },
    {
     "name": "stderr",
     "output_type": "stream",
     "text": [
      "Epoch 5/10: 100%|██████████| 251/251 [01:19<00:00,  3.17it/s]\n"
     ]
    },
    {
     "name": "stdout",
     "output_type": "stream",
     "text": [
      "📊 Epoch 5/10\n",
      "Train Loss: 0.6601 | Val Loss: 0.6458\n",
      "Train Acc: 0.7243 | Val Acc: 0.7622\n",
      "Train F1: 0.6322 | Val F1: 0.6813\n",
      "⚠️ No improvement in F1 for 1 epoch(s)\n"
     ]
    },
    {
     "name": "stderr",
     "output_type": "stream",
     "text": [
      "Epoch 6/10: 100%|██████████| 251/251 [01:17<00:00,  3.25it/s]\n"
     ]
    },
    {
     "name": "stdout",
     "output_type": "stream",
     "text": [
      "📊 Epoch 6/10\n",
      "Train Loss: 0.5778 | Val Loss: 0.6415\n",
      "Train Acc: 0.7413 | Val Acc: 0.7782\n",
      "Train F1: 0.6622 | Val F1: 0.7080\n",
      "✅ Saved new best model\n"
     ]
    },
    {
     "name": "stderr",
     "output_type": "stream",
     "text": [
      "Epoch 7/10: 100%|██████████| 251/251 [01:18<00:00,  3.21it/s]\n"
     ]
    },
    {
     "name": "stdout",
     "output_type": "stream",
     "text": [
      "📊 Epoch 7/10\n",
      "Train Loss: 0.5833 | Val Loss: 0.6144\n",
      "Train Acc: 0.7490 | Val Acc: 0.7912\n",
      "Train F1: 0.6696 | Val F1: 0.7274\n",
      "✅ Saved new best model\n"
     ]
    },
    {
     "name": "stderr",
     "output_type": "stream",
     "text": [
      "Epoch 8/10: 100%|██████████| 251/251 [01:15<00:00,  3.31it/s]\n"
     ]
    },
    {
     "name": "stdout",
     "output_type": "stream",
     "text": [
      "📊 Epoch 8/10\n",
      "Train Loss: 0.4901 | Val Loss: 0.6293\n",
      "Train Acc: 0.7675 | Val Acc: 0.8172\n",
      "Train F1: 0.7118 | Val F1: 0.7556\n",
      "✅ Saved new best model\n"
     ]
    },
    {
     "name": "stderr",
     "output_type": "stream",
     "text": [
      "Epoch 9/10: 100%|██████████| 251/251 [01:15<00:00,  3.32it/s]\n"
     ]
    },
    {
     "name": "stdout",
     "output_type": "stream",
     "text": [
      "📊 Epoch 9/10\n",
      "Train Loss: 0.4586 | Val Loss: 0.5957\n",
      "Train Acc: 0.7777 | Val Acc: 0.8022\n",
      "Train F1: 0.7135 | Val F1: 0.7284\n",
      "⚠️ No improvement in F1 for 1 epoch(s)\n"
     ]
    },
    {
     "name": "stderr",
     "output_type": "stream",
     "text": [
      "Epoch 10/10: 100%|██████████| 251/251 [01:22<00:00,  3.06it/s]\n"
     ]
    },
    {
     "name": "stdout",
     "output_type": "stream",
     "text": [
      "📊 Epoch 10/10\n",
      "Train Loss: 0.4424 | Val Loss: 0.5761\n",
      "Train Acc: 0.7837 | Val Acc: 0.8092\n",
      "Train F1: 0.7290 | Val F1: 0.7467\n",
      "⚠️ No improvement in F1 for 2 epoch(s)\n"
     ]
    }
   ],
   "source": [
    "best_f1 = 0.0\n",
    "patience = 3\n",
    "counter = 0\n",
    "\n",
    "for epoch in range(10):\n",
    "    model.train()\n",
    "    running_loss = 0.0\n",
    "    all_preds = []\n",
    "    all_labels = []\n",
    "\n",
    "    for images, labels in tqdm(train_loader, desc=f'Epoch {epoch+1}/10'):\n",
    "        images, labels = images.to(device), labels.to(device)\n",
    "\n",
    "        optimizer.zero_grad()\n",
    "        outputs = model(images)\n",
    "        loss = criterion(outputs, labels)\n",
    "        loss.backward()\n",
    "        optimizer.step()\n",
    "\n",
    "        running_loss += loss.item() * images.size(0)\n",
    "        preds = torch.argmax(outputs, 1)\n",
    "        all_preds.extend(preds.cpu().numpy())\n",
    "        all_labels.extend(labels.cpu().numpy())\n",
    "\n",
    "    train_loss = running_loss / len(train_loader.dataset)\n",
    "    train_acc = accuracy_score(all_labels, all_preds)\n",
    "    train_f1 = f1_score(all_labels, all_preds, average='macro')\n",
    "    train_recall = recall_score(all_labels, all_preds, average='macro')\n",
    "    train_precision = precision_score(all_labels, all_preds, average='macro')\n",
    "\n",
    "    val_loss, val_acc, val_f1, val_recall, val_precision = evaluate_model(model, val_loader)\n",
    "\n",
    "    # TensorBoard logging\n",
    "    writer.add_scalars('Loss', {'Train': train_loss, 'Val': val_loss}, epoch)\n",
    "    writer.add_scalars('Accuracy', {'Train': train_acc, 'Val': val_acc}, epoch)\n",
    "    writer.add_scalars('F1', {'Train': train_f1, 'Val': val_f1}, epoch)\n",
    "    writer.add_scalars('Recall', {'Train': train_recall, 'Val': val_recall}, epoch)\n",
    "    writer.add_scalars('Precision', {'Train': train_precision, 'Val': val_precision}, epoch)\n",
    "\n",
    "    print(f\"📊 Epoch {epoch+1}/10\")\n",
    "    print(f\"Train Loss: {train_loss:.4f} | Val Loss: {val_loss:.4f}\")\n",
    "    print(f\"Train Acc: {train_acc:.4f} | Val Acc: {val_acc:.4f}\")\n",
    "    print(f\"Train F1: {train_f1:.4f} | Val F1: {val_f1:.4f}\")\n",
    "\n",
    "    if val_f1 > best_f1:\n",
    "        best_f1 = val_f1\n",
    "        counter = 0\n",
    "        torch.save(model.state_dict(), 'best_efficient_net-new_pretprocesing.pth')\n",
    "        print(\"✅ Saved new best model\")\n",
    "    else:\n",
    "        counter += 1\n",
    "        print(f\"⚠️ No improvement in F1 for {counter} epoch(s)\")\n",
    "        if counter >= patience:\n",
    "            print(\"⏹️ Early stopping triggered\")\n",
    "            break\n",
    "##$$ OVO JE JOS BOLJEŠANO S OBZIROM DA JE DODAN EARLY STOPPING"
   ]
  },
  {
   "cell_type": "code",
   "execution_count": 35,
   "id": "cc6e1a4e",
   "metadata": {},
   "outputs": [
    {
     "name": "stderr",
     "output_type": "stream",
     "text": [
      "C:\\Users\\samue\\AppData\\Local\\Temp\\ipykernel_21244\\4193675901.py:1: FutureWarning: You are using `torch.load` with `weights_only=False` (the current default value), which uses the default pickle module implicitly. It is possible to construct malicious pickle data which will execute arbitrary code during unpickling (See https://github.com/pytorch/pytorch/blob/main/SECURITY.md#untrusted-models for more details). In a future release, the default value for `weights_only` will be flipped to `True`. This limits the functions that could be executed during unpickling. Arbitrary objects will no longer be allowed to be loaded via this mode unless they are explicitly allowlisted by the user via `torch.serialization.add_safe_globals`. We recommend you start setting `weights_only=True` for any use case where you don't have full control of the loaded file. Please open an issue on GitHub for any issues related to this experimental feature.\n",
      "  model.load_state_dict(torch.load(\"best_efficient_net-new_pretprocesing.pth\"))\n"
     ]
    },
    {
     "name": "stdout",
     "output_type": "stream",
     "text": [
      "Test Acc: 0.8174 | Test F1: 0.6918\n"
     ]
    }
   ],
   "source": [
    "model.load_state_dict(torch.load(\"best_efficient_net-new_pretprocesing.pth\"))\n",
    "model.eval()\n",
    "test_loss, test_acc, test_f1, test_recall, test_precision = evaluate_model(model, test_loader)\n",
    "print(f\"Test Acc: {test_acc:.4f} | Test F1: {test_f1:.4f}\")\n"
   ]
  }
 ],
 "metadata": {
  "kernelspec": {
   "display_name": "Python 3",
   "language": "python",
   "name": "python3"
  },
  "language_info": {
   "codemirror_mode": {
    "name": "ipython",
    "version": 3
   },
   "file_extension": ".py",
   "mimetype": "text/x-python",
   "name": "python",
   "nbconvert_exporter": "python",
   "pygments_lexer": "ipython3",
   "version": "3.9.0"
  }
 },
 "nbformat": 4,
 "nbformat_minor": 5
}
